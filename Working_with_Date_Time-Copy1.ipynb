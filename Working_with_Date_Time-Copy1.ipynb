{
 "cells": [
  {
   "cell_type": "markdown",
   "id": "24447fea",
   "metadata": {},
   "source": [
    "# Create project"
   ]
  },
  {
   "cell_type": "code",
   "execution_count": 1,
   "id": "7346c323",
   "metadata": {},
   "outputs": [
    {
     "ename": "NameError",
     "evalue": "name 'pd' is not defined",
     "output_type": "error",
     "traceback": [
      "\u001b[1;31m---------------------------------------------------------------------------\u001b[0m",
      "\u001b[1;31mNameError\u001b[0m                                 Traceback (most recent call last)",
      "Cell \u001b[1;32mIn [1], line 2\u001b[0m\n\u001b[0;32m      1\u001b[0m url \u001b[38;5;241m=\u001b[39m\u001b[38;5;124m\"\u001b[39m\u001b[38;5;124mhttps://docs.google.com/spreadsheets/d/e/2PACX-1vT_jChgNsQbHbg4TGepzIqk8XC9DTIKmyyxb1upo5cfZCgbfIUQc2ZC0YMzuU5uApP140Ob49KBjdqh/pub?gid=1198589591&single=true&output=csv\u001b[39m\u001b[38;5;124m\"\u001b[39m\n\u001b[1;32m----> 2\u001b[0m df \u001b[38;5;241m=\u001b[39m \u001b[43mpd\u001b[49m\u001b[38;5;241m.\u001b[39mread_csv(url)\n",
      "\u001b[1;31mNameError\u001b[0m: name 'pd' is not defined"
     ]
    }
   ],
   "source": [
    "url =\"https://docs.google.com/spreadsheets/d/e/2PACX-1vT_jChgNsQbHbg4TGepzIqk8XC9DTIKmyyxb1upo5cfZCgbfIUQc2ZC0YMzuU5uApP140Ob49KBjdqh/pub?gid=1198589591&single=true&output=csv\"\n",
    "df = pd.read_csv(url)"
   ]
  },
  {
   "cell_type": "markdown",
   "id": "cc97adba",
   "metadata": {},
   "source": [
    "# Create date time"
   ]
  },
  {
   "cell_type": "code",
   "execution_count": null,
   "id": "59eff2c6",
   "metadata": {},
   "outputs": [],
   "source": [
    "# convert\n",
    "df['date'] = pd.to_datetime(df['date'], format='%Y%m%d')\n",
    "df['date']"
   ]
  },
  {
   "cell_type": "code",
   "execution_count": null,
   "id": "181fa3d4",
   "metadata": {},
   "outputs": [],
   "source": [
    "# set date time index\n",
    "df = df.set_index('date')\n",
    "df"
   ]
  },
  {
   "cell_type": "markdown",
   "id": "362e50e1",
   "metadata": {},
   "source": [
    "# Perform task\n",
    "- Keep only data from the year 2000 or later.\n",
    "- Keep only the following features:\n",
    "  - precipitation\n",
    "  - mean_temp\n",
    "  - min_temp\n",
    " -  max_temp\n",
    "  -  snow_depth"
   ]
  },
  {
   "cell_type": "code",
   "execution_count": null,
   "id": "77dafa99",
   "metadata": {},
   "outputs": [],
   "source": [
    "#create filter\n",
    "df = df.loc['2000':, ['precipitation', 'mean_temp', 'min_temp', \n",
    "                      'max_temp', 'snow_depth']]\n",
    "\n",
    "df"
   ]
  },
  {
   "cell_type": "markdown",
   "id": "1a4b6c5e",
   "metadata": {},
   "source": [
    "## Data Cleaning"
   ]
  },
  {
   "cell_type": "code",
   "execution_count": null,
   "id": "6c91a8ea",
   "metadata": {},
   "outputs": [],
   "source": [
    "# look at missing data\n",
    "df.isna().sum()"
   ]
  },
  {
   "cell_type": "code",
   "execution_count": null,
   "id": "d4a5db0f",
   "metadata": {},
   "outputs": [],
   "source": [
    "## interpolating temperature measures\n",
    "df['mean_temp'] = df['mean_temp'].interpolate()\n",
    "df['max_temp'] = df['max_temp'].interpolate()\n",
    "df['min_temp'] = df['min_temp'].interpolate()"
   ]
  },
  {
   "cell_type": "code",
   "execution_count": null,
   "id": "5ec7e6cc",
   "metadata": {},
   "outputs": [],
   "source": [
    "#check results\n",
    "df.isna().sum()"
   ]
  },
  {
   "cell_type": "code",
   "execution_count": null,
   "id": "4feef678",
   "metadata": {},
   "outputs": [],
   "source": [
    "# filling preciptation/snow with 0\n",
    "df['precipitation'] = df['precipitation'].fillna(0)\n",
    "df['snow_depth'] = df['snow_depth'].fillna(0)"
   ]
  },
  {
   "cell_type": "code",
   "execution_count": null,
   "id": "851a8635",
   "metadata": {},
   "outputs": [],
   "source": [
    "#check missing dat\n",
    "df.isna().sum()"
   ]
  },
  {
   "cell_type": "markdown",
   "id": "a402954c",
   "metadata": {},
   "source": [
    "# Answer Questions\n",
    "- a) \"The lowest temperature of `{max temp}` degrees occurred on `{date as \"MonthName 2-digit-day, 4-digit year. }` which was a `{day of the week}`.\""
   ]
  },
  {
   "cell_type": "code",
   "execution_count": null,
   "id": "ab156d3a",
   "metadata": {},
   "outputs": [],
   "source": [
    "date_min_temp = df['min_temp'].idxmax()\n",
    "min_temp = df['min_temp'].max()\n",
    "date_min_temp = df['min_temp'].idxmax()\n",
    "min_temp = df['min_temp'].max()\n"
   ]
  },
  {
   "cell_type": "code",
   "execution_count": null,
   "id": "d17348c0",
   "metadata": {},
   "outputs": [],
   "source": [
    "\n",
    "print(f\"The lowest temperature of {min_temp} degrees occured on {date_min_temp.strftime('%B %d, %Y')} which was a {date_min_temp.day_name()}.\")"
   ]
  },
  {
   "cell_type": "code",
   "execution_count": null,
   "id": "311ad960",
   "metadata": {},
   "outputs": [],
   "source": [
    "date_max_precip = df['precipitation'].idxmax()\n",
    "max_precip = df['precipitation'].max()"
   ]
  },
  {
   "cell_type": "markdown",
   "id": "d554f4e1",
   "metadata": {},
   "source": [
    "# Second Question"
   ]
  },
  {
   "cell_type": "markdown",
   "id": "21650591",
   "metadata": {},
   "source": [
    "<p>b) \"The highest daily precipitation of {max preciptation} inches occurred on {date as \"MonthName 2-digit-day, 4-digit year. } which was a {day of the week}.\"<br></p>"
   ]
  },
  {
   "cell_type": "code",
   "execution_count": null,
   "id": "01df4494",
   "metadata": {},
   "outputs": [],
   "source": [
    "date_max_precip = df['precipitation'].idxmax()\n",
    "max_precip = df['precipitation'].max()\n",
    "\n",
    "print(f\"The highest daily preciptation was {max_precip} inches, which occured on {date_max_precip.strftime('%B %d, %Y')} which was a {date_max_precip.day_name()}.\")\n"
   ]
  },
  {
   "cell_type": "code",
   "execution_count": null,
   "id": "208d9573",
   "metadata": {},
   "outputs": [],
   "source": []
  },
  {
   "cell_type": "code",
   "execution_count": null,
   "id": "b98bd1ff",
   "metadata": {},
   "outputs": [],
   "source": []
  },
  {
   "cell_type": "code",
   "execution_count": null,
   "id": "070d34a2",
   "metadata": {},
   "outputs": [],
   "source": []
  },
  {
   "cell_type": "code",
   "execution_count": null,
   "id": "89d30f59",
   "metadata": {},
   "outputs": [],
   "source": []
  },
  {
   "cell_type": "code",
   "execution_count": null,
   "id": "1c5336f9",
   "metadata": {},
   "outputs": [],
   "source": []
  },
  {
   "cell_type": "code",
   "execution_count": null,
   "id": "f727bbc4",
   "metadata": {},
   "outputs": [],
   "source": []
  },
  {
   "cell_type": "code",
   "execution_count": null,
   "id": "91d14976",
   "metadata": {},
   "outputs": [],
   "source": []
  },
  {
   "cell_type": "code",
   "execution_count": null,
   "id": "c52327cb",
   "metadata": {},
   "outputs": [],
   "source": []
  },
  {
   "cell_type": "code",
   "execution_count": null,
   "id": "2c4f777f",
   "metadata": {},
   "outputs": [],
   "source": []
  },
  {
   "cell_type": "code",
   "execution_count": null,
   "id": "870da87e",
   "metadata": {},
   "outputs": [],
   "source": []
  },
  {
   "cell_type": "code",
   "execution_count": null,
   "id": "aa146383",
   "metadata": {},
   "outputs": [],
   "source": []
  },
  {
   "cell_type": "code",
   "execution_count": null,
   "id": "e0482e3d",
   "metadata": {},
   "outputs": [],
   "source": []
  },
  {
   "cell_type": "code",
   "execution_count": null,
   "id": "578a17f0",
   "metadata": {},
   "outputs": [],
   "source": []
  },
  {
   "cell_type": "code",
   "execution_count": null,
   "id": "06e9a60f",
   "metadata": {},
   "outputs": [],
   "source": []
  },
  {
   "cell_type": "code",
   "execution_count": null,
   "id": "81d6539c",
   "metadata": {},
   "outputs": [],
   "source": []
  },
  {
   "cell_type": "code",
   "execution_count": null,
   "id": "d93ef841",
   "metadata": {},
   "outputs": [],
   "source": []
  },
  {
   "cell_type": "code",
   "execution_count": null,
   "id": "c6dde30e",
   "metadata": {},
   "outputs": [],
   "source": []
  },
  {
   "cell_type": "code",
   "execution_count": null,
   "id": "596bd0fb",
   "metadata": {},
   "outputs": [],
   "source": []
  },
  {
   "cell_type": "code",
   "execution_count": null,
   "id": "a0b747c9",
   "metadata": {},
   "outputs": [],
   "source": []
  },
  {
   "cell_type": "code",
   "execution_count": null,
   "id": "16dca468",
   "metadata": {},
   "outputs": [],
   "source": []
  },
  {
   "cell_type": "code",
   "execution_count": null,
   "id": "e8c17a96",
   "metadata": {},
   "outputs": [],
   "source": []
  },
  {
   "cell_type": "code",
   "execution_count": null,
   "id": "ba65c08a",
   "metadata": {},
   "outputs": [],
   "source": []
  },
  {
   "cell_type": "code",
   "execution_count": null,
   "id": "25079dc9",
   "metadata": {},
   "outputs": [],
   "source": []
  },
  {
   "cell_type": "code",
   "execution_count": null,
   "id": "ffe413a1",
   "metadata": {},
   "outputs": [],
   "source": []
  },
  {
   "cell_type": "code",
   "execution_count": null,
   "id": "17df1128",
   "metadata": {},
   "outputs": [],
   "source": []
  },
  {
   "cell_type": "code",
   "execution_count": null,
   "id": "5ec98488",
   "metadata": {},
   "outputs": [],
   "source": []
  }
 ],
 "metadata": {
  "kernelspec": {
   "display_name": "Python (dojo-env)",
   "language": "python",
   "name": "dojo-env"
  },
  "language_info": {
   "codemirror_mode": {
    "name": "ipython",
    "version": 3
   },
   "file_extension": ".py",
   "mimetype": "text/x-python",
   "name": "python",
   "nbconvert_exporter": "python",
   "pygments_lexer": "ipython3",
   "version": "3.9.15"
  },
  "toc": {
   "base_numbering": 1,
   "nav_menu": {},
   "number_sections": true,
   "sideBar": true,
   "skip_h1_title": false,
   "title_cell": "Table of Contents",
   "title_sidebar": "Contents",
   "toc_cell": false,
   "toc_position": {},
   "toc_section_display": true,
   "toc_window_display": false
  }
 },
 "nbformat": 4,
 "nbformat_minor": 5
}
